{
 "cells": [
  {
   "attachments": {},
   "cell_type": "markdown",
   "metadata": {},
   "source": [
    "Question 1: Using Python define a  generator function Fib() ,  which uses the keyword 'yield'  that computes the Fibonacci Sequence. The Fibonacci Sequence is 0, 1, 1, 2, 3, 5, ... "
   ]
  },
  {
   "cell_type": "code",
   "execution_count": 30,
   "metadata": {},
   "outputs": [
    {
     "name": "stdout",
     "output_type": "stream",
     "text": [
      "[0, 1, 1, 2, 3, 5, 8, 13, 21, 34]\n"
     ]
    }
   ],
   "source": [
    "def Fib(size):\n",
    "    # add the two numbers prior to each number in the sequence\n",
    "    # 1, 1, 2, 3, 5, 8, 13, 21, 34, 55, 89, ...\n",
    "    sequence = []\n",
    "    for num in range(size):\n",
    "        if num == 0:\n",
    "            sequence.append(0)\n",
    "        elif num == 1:\n",
    "            sequence.append(1)\n",
    "        else:\n",
    "            sequence.append(sequence[num-1] + sequence[num-2])\n",
    "    yield(sequence)\n",
    "\n",
    "\n"
   ]
  },
  {
   "attachments": {},
   "cell_type": "markdown",
   "metadata": {},
   "source": [
    "In python, use comprehension syntax to compute the first 10 elements of the Fibonacci Sequence, i.e. 0, 1, 1, 2, 3, 5, ... "
   ]
  },
  {
   "cell_type": "code",
   "execution_count": 62,
   "metadata": {},
   "outputs": [
    {
     "name": "stdout",
     "output_type": "stream",
     "text": [
      "[0, 1, 1, 2, 3, 5, 8, 13, 21, 34]\n"
     ]
    }
   ],
   "source": [
    "\n",
    "sequence = [0,1]\n",
    "[sequence.append(sum(sequence[-2:])) for num in range(2,10)]\n",
    "print(sequence)\n"
   ]
  }
 ],
 "metadata": {
  "kernelspec": {
   "display_name": "anly503",
   "language": "python",
   "name": "python3"
  },
  "language_info": {
   "codemirror_mode": {
    "name": "ipython",
    "version": 3
   },
   "file_extension": ".py",
   "mimetype": "text/x-python",
   "name": "python",
   "nbconvert_exporter": "python",
   "pygments_lexer": "ipython3",
   "version": "3.10.8"
  },
  "orig_nbformat": 4,
  "vscode": {
   "interpreter": {
    "hash": "21cae48b480ced2c30d4aa192aa0a175a1cb8bcc5c64264ee946e4e7c4ccbdcc"
   }
  }
 },
 "nbformat": 4,
 "nbformat_minor": 2
}
