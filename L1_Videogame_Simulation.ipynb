{
 "cells": [
  {
   "cell_type": "markdown",
   "id": "c1df45c2",
   "metadata": {},
   "source": [
    "# Lecture 1\n",
    "75 min: Lecture\n",
    "75 min: In-class exercise in breakout rooms\n",
    "you can turn it in by the end of the night\n",
    "\n",
    "Each module has a quiz + discussion\n",
    "We'll need a video of execution of my code\n",
    "\n",
    "ANLY 555 Project FAQ document is on Canvas--they are in order of when we would need them\n",
    "\n",
    "Class Project Deliverable #1 will be made available soon (even though it's not due until Module 2)\n",
    "\n",
    "We are going to make documentation for our code (Automatically using Doxygen!!)\n",
    "  - it will rip our comments and make really good documentation :)\n",
    "  - there will be a welcome announcement in each module\n",
    "\n"
   ]
  },
  {
   "cell_type": "code",
   "execution_count": null,
   "id": "13964c5c",
   "metadata": {},
   "outputs": [],
   "source": []
  }
 ],
 "metadata": {
  "kernelspec": {
   "display_name": "Python 3 (ipykernel)",
   "language": "python",
   "name": "python3"
  },
  "language_info": {
   "codemirror_mode": {
    "name": "ipython",
    "version": 3
   },
   "file_extension": ".py",
   "mimetype": "text/x-python",
   "name": "python",
   "nbconvert_exporter": "python",
   "pygments_lexer": "ipython3",
   "version": "3.9.7"
  }
 },
 "nbformat": 4,
 "nbformat_minor": 5
}
