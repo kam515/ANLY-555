{
 "cells": [
  {
   "cell_type": "markdown",
   "id": "98ad4d8f",
   "metadata": {},
   "source": [
    "# Lecture 1\n",
    "75 min: Lecture\n",
    "75 min: In-class exercise in breakout rooms\n",
    "you can turn it in by the end of the night\n",
    "\n",
    "Each module has a quiz + discussion\n",
    "We'll need a video of execution of my code\n",
    "\n",
    "ANLY 555 Project FAQ document is on Canvas--they are in order of when we would need them"
   ]
  },
  {
   "cell_type": "code",
   "execution_count": null,
   "id": "a1585392",
   "metadata": {},
   "outputs": [],
   "source": []
  }
 ],
 "metadata": {
  "kernelspec": {
   "display_name": "Python 3 (ipykernel)",
   "language": "python",
   "name": "python3"
  },
  "language_info": {
   "codemirror_mode": {
    "name": "ipython",
    "version": 3
   },
   "file_extension": ".py",
   "mimetype": "text/x-python",
   "name": "python",
   "nbconvert_exporter": "python",
   "pygments_lexer": "ipython3",
   "version": "3.9.7"
  }
 },
 "nbformat": 4,
 "nbformat_minor": 5
}
