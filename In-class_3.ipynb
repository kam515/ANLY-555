{
 "cells": [
  {
   "attachments": {},
   "cell_type": "markdown",
   "metadata": {},
   "source": [
    "Consider the mathematical structure--the vector. To maximize code reusability, you will implement the BetterVector class. The BetterVector class will be a subclass of the Vector class, which can be found here. The Vector Class already provides for addition which BetterVector will inherit, but you will need to provide for vector subtraction and multiplication (inner product). Use operator overloading. Implement the BetterVector class as noted above and test your newly created multiplication and subtraction operations in a \"main method\", if __name__ == __main__"
   ]
  },
  {
   "cell_type": "code",
   "execution_count": 9,
   "metadata": {},
   "outputs": [
    {
     "name": "stdout",
     "output_type": "stream",
     "text": [
      "45\n",
      "<0, 46, 0, 0, 90>\n"
     ]
    }
   ],
   "source": [
    "import collections\n",
    "\n",
    "class Vector:\n",
    "  \"\"\"Represent a vector in a multidimensional space.\"\"\"\n",
    "\n",
    "  def __init__(self, d):\n",
    "    if isinstance(d, int):\n",
    "      self._coords = [0] * d\n",
    "    else:                                  \n",
    "      try:                                     # we test if param is iterable\n",
    "        self._coords = [val for val in d]\n",
    "      except TypeError:\n",
    "        raise TypeError('invalid parameter type')\n",
    "\n",
    "  def __len__(self):\n",
    "    \"\"\"Return the dimension of the vector.\"\"\"\n",
    "    return len(self._coords)\n",
    "\n",
    "  def __getitem__(self, j):\n",
    "    \"\"\"Return jth coordinate of vector.\"\"\"\n",
    "    return self._coords[j]\n",
    "\n",
    "  def __setitem__(self, j, val):\n",
    "    \"\"\"Set jth coordinate of vector to given value.\"\"\"\n",
    "    self._coords[j] = val\n",
    "\n",
    "  def __add__(self, other):\n",
    "    \"\"\"Return sum of two vectors.\"\"\"\n",
    "    if len(self) != len(other):          # relies on __len__ method\n",
    "      raise ValueError('dimensions must agree')\n",
    "    result = Vector(len(self))           # start with vector of zeros\n",
    "    for j in range(len(self)):\n",
    "      result[j] = self[j] + other[j]\n",
    "    return result\n",
    "\n",
    "  def __eq__(self, other):\n",
    "    \"\"\"Return True if vector has same coordinates as other.\"\"\"\n",
    "    return self._coords == other._coords\n",
    "\n",
    "  def __ne__(self, other):\n",
    "    \"\"\"Return True if vector differs from other.\"\"\"\n",
    "    return not self == other             # rely on existing __eq__ definition\n",
    "\n",
    "  def __str__(self):\n",
    "    \"\"\"Produce string representation of vector.\"\"\"\n",
    "    return '<' + str(self._coords)[1:-1] + '>'  # adapt list representation\n",
    "\n",
    "  def __neg__(self):\n",
    "    \"\"\"Return copy of vector with all coordinates negated.\"\"\"\n",
    "    result = Vector(len(self))           # start with vector of zeros\n",
    "    for j in range(len(self)):\n",
    "      result[j] = -self[j]\n",
    "    return result\n",
    "\n",
    "  def __lt__(self, other):\n",
    "    \"\"\"Compare vectors based on lexicographical order.\"\"\"\n",
    "    if len(self) != len(other):\n",
    "      raise ValueError('dimensions must agree')\n",
    "    return self._coords < other._coords\n",
    "\n",
    "  def __le__(self, other):\n",
    "    \"\"\"Compare vectors based on lexicographical order.\"\"\"\n",
    "    if len(self) != len(other):\n",
    "      raise ValueError('dimensions must agree')\n",
    "    return self._coords <= other._coords\n",
    "\n",
    "if __name__ == '__main__':\n",
    "  # the following demonstrates usage of a few methods\n",
    "  v = Vector(5)              # construct five-dimensional <0, 0, 0, 0, 0>\n",
    "  v[1] = 23                  # <0, 23, 0, 0, 0> (based on use of __setitem__)\n",
    "  v[-1] = 45                 # <0, 23, 0, 0, 45> (also via __setitem__)\n",
    "  print(v[4])                # print 45 (via __getitem__)\n",
    "  u = v + v                  # <0, 46, 0, 0, 90> (via __add__)\n",
    "  print(u)                   # print <0, 46, 0, 0, 90>\n",
    "  total = 0\n",
    "  for entry in v:            # implicit iteration via __len__ and __getitem__\n",
    "    total += entry\n"
   ]
  },
  {
   "cell_type": "code",
   "execution_count": 15,
   "metadata": {},
   "outputs": [],
   "source": [
    "class BetterVector(Vector):\n",
    "    \"\"\"Will need to provide for vector subtraction and multiplication (inner product). Use operator overloading.\"\"\"\n",
    "    def __init__(self, d): # d is the dimension of the vector\n",
    "        super().__init__(d) # call the parent class's __init__ method\n",
    "        \n",
    "    def __sub__(self, other): # other is the vector to be subtracted from self\n",
    "        \"\"\"Return difference of two vectors.\"\"\"\n",
    "        if len(self) != len(other): # it is against the rules to add vectors of different dimensions\n",
    "            raise ValueError('dimensions must agree') # raise an exception\n",
    "        result = Vector(len(self)) # start with vector of zeros\n",
    "        for j in range(len(self)): # iterate over the coordinates\n",
    "            result[j] = self[j] - other[j] # subtract the coordinates\n",
    "        return result # return the result\n",
    "    \n",
    "    def __mul__(self, other): # other is the vector to be multiplied by self\n",
    "        \"\"\"Return inner product of two vectors.\"\"\"\n",
    "        if len(self) != len(other): # it is against the rules to add vectors of different dimensions\n",
    "            raise ValueError('dimensions must agree') # raise an exception\n",
    "        result = Vector(len(self))  # start with a zero for result (to initialize the variable )\n",
    "        for j in range(len(self)): # iterate over the coordinates\n",
    "            result[j] = self[j] * other[j] # add the product of the coordinates\n",
    "        return result # return the result\n",
    "        \n"
   ]
  },
  {
   "attachments": {},
   "cell_type": "markdown",
   "metadata": {},
   "source": [
    "Implement the BetterVector class as noted above and test your newly created multiplication and subtraction operations in a \"main method\", if __name__ == __main__"
   ]
  },
  {
   "cell_type": "code",
   "execution_count": 16,
   "metadata": {},
   "outputs": [
    {
     "name": "stdout",
     "output_type": "stream",
     "text": [
      "<0, 1, 4, 9, 16>\n"
     ]
    }
   ],
   "source": [
    "v = BetterVector(5)\n",
    "v[0] = 0\n",
    "v[1] = 1\n",
    "v[2] = 2\n",
    "v[3] = 3\n",
    "v[4] = 4     \n",
    "\n",
    "print(v*v)"
   ]
  },
  {
   "cell_type": "code",
   "execution_count": 17,
   "metadata": {},
   "outputs": [
    {
     "name": "stdout",
     "output_type": "stream",
     "text": [
      "4\n",
      "<0, 0, 0, 0, 0>\n",
      "<0, 1, 4, 9, 16>\n"
     ]
    }
   ],
   "source": [
    "if __name__ == '__main__':\n",
    "  v = BetterVector(5)\n",
    "  v[0] = 0\n",
    "  v[1] = 1\n",
    "  v[2] = 2\n",
    "  v[3] = 3\n",
    "  v[4] = 4            \n",
    "  print(v[4])                \n",
    "  u = v - v                  \n",
    "  print(u)                 \n",
    "  x = v * v                  \n",
    "  print(x)                  \n",
    "  total = 0\n",
    "  for entry in v:            \n",
    "    total += entry\n"
   ]
  }
 ],
 "metadata": {
  "kernelspec": {
   "display_name": "Python 3",
   "language": "python",
   "name": "python3"
  },
  "language_info": {
   "codemirror_mode": {
    "name": "ipython",
    "version": 3
   },
   "file_extension": ".py",
   "mimetype": "text/x-python",
   "name": "python",
   "nbconvert_exporter": "python",
   "pygments_lexer": "ipython3",
   "version": "3.11.1"
  },
  "orig_nbformat": 4,
  "vscode": {
   "interpreter": {
    "hash": "1a1af0ee75eeea9e2e1ee996c87e7a2b11a0bebd85af04bb136d915cefc0abce"
   }
  }
 },
 "nbformat": 4,
 "nbformat_minor": 2
}
