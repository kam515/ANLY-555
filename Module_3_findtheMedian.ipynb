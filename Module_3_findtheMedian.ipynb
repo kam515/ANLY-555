{
 "cells": [
  {
   "cell_type": "code",
   "execution_count": 1,
   "metadata": {},
   "outputs": [],
   "source": [
    "# Find the median\n",
    "import random\n",
    "\n",
    "def findMedian(n):\n",
    "  # Generate 10 random floating-point numbers between 1 and 100\n",
    "  random_numbers = [random.uniform(1, 100) for i in range(n)] # 2n + 1 operations (n for loop, n incrementing, 1 for assignment)\n",
    "\n",
    "  # Sort the list (without using sorted)\n",
    "  for i in range(len(random_numbers)): # 2n + 1 operations (n for loop, n incrementing, 1 for assignment)\n",
    "        # Find the minimum element in remaining unsorted array\n",
    "        min_idx = i # 1 operation\n",
    "        for j in range(i+1, len(random_numbers)): # 2n + 1 operations (n for loop, n incrementing, 1 for assignment)\n",
    "            if random_numbers[j] < random_numbers[min_idx]: # 1 operation\n",
    "                min_idx = j # 1 operation    \n",
    "        # Swap the found minimum element with the first element\n",
    "        random_numbers[i], random_numbers[min_idx] = random_numbers[min_idx], random_numbers[i] # 1 operation\n",
    "\n",
    "  # Then I need to find the middle if it's odd or middle two if it is even\n",
    "  if len(random_numbers) % 2 == 0: # 1 operation\n",
    "    # find two middle indices and divide by two\n",
    "    median = (random_numbers[len(random_numbers) // 2 - 1] + random_numbers[len(random_numbers) // 2])/2 # 5 operations (2 for division, 1 for addition, 2 for indexing)\n",
    "  else:\n",
    "    # find middle index and return\n",
    "    median = random_numbers[len(random_numbers) // 2] # 3 operations (1 for division, 1 for indexing, 1 for assignment)\n",
    "\n",
    "  return median # 1 operation"
   ]
  },
  {
   "attachments": {},
   "cell_type": "markdown",
   "metadata": {},
   "source": [
    "## Worst Case Time Complexity (even and unsorted):\n",
    "T(n) = 2n + 1 + (2n + 1) * [1 + (2n + 1) * (1 + 1) + 1] + 1 + 5 (if even) + 3 (if odd) + 1\n",
    "T(n) = 4n^3 + 6n^2 + 14n + 10\n",
    "\n",
    "## Worst Case Space Complexity (even and unsorted):\n",
    "S(n) = O(n)\n",
    "\n",
    "## Big O Notation:\n",
    "T(n) = O(n^3)\n",
    "\n",
    "\n",
    "\n"
   ]
  }
 ],
 "metadata": {
  "kernelspec": {
   "display_name": "anly503",
   "language": "python",
   "name": "python3"
  },
  "language_info": {
   "codemirror_mode": {
    "name": "ipython",
    "version": 3
   },
   "file_extension": ".py",
   "mimetype": "text/x-python",
   "name": "python",
   "nbconvert_exporter": "python",
   "pygments_lexer": "ipython3",
   "version": "3.10.8"
  },
  "orig_nbformat": 4,
  "vscode": {
   "interpreter": {
    "hash": "21cae48b480ced2c30d4aa192aa0a175a1cb8bcc5c64264ee946e4e7c4ccbdcc"
   }
  }
 },
 "nbformat": 4,
 "nbformat_minor": 2
}
