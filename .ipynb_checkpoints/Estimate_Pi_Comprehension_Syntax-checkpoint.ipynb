{
 "cells": [
  {
   "cell_type": "markdown",
   "id": "f449bd96",
   "metadata": {},
   "source": [
    "Discussion.\n",
    "\n",
    "The value of pi can be estimated using the following infinite series:\n",
    "\n",
    "pi/4 = 1 - 1/3 + 1/5 - 1/7 ... \n",
    "\n",
    " \n",
    "\n",
    "1) Write a Python function computePi4(numTerms) that computes this estimate up to iteration numTerms.\n",
    "\n",
    "\n",
    "2) Try the above using comprehension syntax.\n",
    "\n",
    "\n",
    "3) A sequence is a list of objects. Using numTerms as the maximum index into a sequence, one can use computePi4 to compute a sequence to estimate pi/4, where each new number in the sequence is an estimate of pi/4 that \"more closely\" approaches to the actual value. Write a generator function in Python that generates this sequence using a yield statement (for delayed evaluation).  This is similar to #1 except you will be using a yield statement. "
   ]
  },
  {
   "cell_type": "code",
   "execution_count": 101,
   "id": "6f175516",
   "metadata": {},
   "outputs": [],
   "source": [
    "# QUESTION 1\n",
    "\n",
    "def computePi4(numTerms):\n",
    "    \n",
    "    # make one be the first index\n",
    "    list_of_terms = [1]\n",
    "    \n",
    "    # iterate through list of length numTerms (including the 1 that we initiated)\n",
    "    for i in range(1, numTerms - 1):\n",
    "        \n",
    "        # take the absolute value of the previous term, so operations will work properly\n",
    "        prev = abs(list_of_terms[i-1])\n",
    "        \n",
    "        # anything that is modulo 0 will = 1 and anything that is modulo 1 will = -1\n",
    "        neg_perhaps = -2*(i % 2) + 1\n",
    "        \n",
    "        # add two to the inverse of the absolute value of the previous term, then take the inverse again and include a possible negative\n",
    "        next_term = neg_perhaps * (prev**-1 + 2)**-1\n",
    "        \n",
    "        # add the term to the list\n",
    "        list_of_terms.append(next_term)\n",
    "    \n",
    "    # return the list\n",
    "    return sum(list_of_terms)\n"
   ]
  },
  {
   "cell_type": "code",
   "execution_count": 102,
   "id": "648a86b5",
   "metadata": {},
   "outputs": [],
   "source": [
    "# QUESTION 2\n",
    "\n",
    "\n",
    "# create a list of numbers in the range numTerms starting from 1 and going up to numTerms\n",
    "def listy_maker(numTerms):\n",
    "    \n",
    "    # create a list from 1 to numTerms - 1\n",
    "    init_list = [i + 1 for i in range(numTerms - 1)]\n",
    "    \n",
    "    # turn each number into the sequence 1, -1/3, 1/5, ...\n",
    "    final_list = [(-2*(i % 2) + 1)*((2*i - 1) + 2)**-1 for i in init_list]\n",
    "    \n",
    "    # return the sum of the sequence and add 1\n",
    "    return sum(final_list) + 1\n",
    "\n",
    "\n"
   ]
  },
  {
   "cell_type": "code",
   "execution_count": 103,
   "id": "cc5bf0b8",
   "metadata": {},
   "outputs": [],
   "source": [
    "# QUESTION 3\n",
    "\n",
    "def computePi4(numTerms):\n",
    "    def compute():\n",
    "        \n",
    "        # make one be the first index\n",
    "        list_of_terms = [1]\n",
    "        \n",
    "        # iterate through list of length numTerms (including the 1 that we initiated)\n",
    "        for i in range(1, numTerms - 1):\n",
    "            \n",
    "            # take the absolute value of the previous term, so operations will work properly\n",
    "            prev = abs(list_of_terms[i-1])\n",
    "            \n",
    "            # anything that is modulo 0 will = 1 and anything that is modulo 1 will = -1\n",
    "            neg_perhaps = -2*(i % 2) + 1\n",
    "            \n",
    "            # add two to the inverse of the absolute value of the previous term, then take the inverse again and include a possible negative\n",
    "            next_term = neg_perhaps * (prev**-1 + 2)**-1\n",
    "            \n",
    "            # add the term to the list\n",
    "            list_of_terms.append(next_term)\n",
    "            \n",
    "        yield sum(list_of_terms)\n",
    "        \n",
    "    return compute()\n",
    "\n"
   ]
  }
 ],
 "metadata": {
  "kernelspec": {
   "display_name": "Python 3 (ipykernel)",
   "language": "python",
   "name": "python3"
  },
  "language_info": {
   "codemirror_mode": {
    "name": "ipython",
    "version": 3
   },
   "file_extension": ".py",
   "mimetype": "text/x-python",
   "name": "python",
   "nbconvert_exporter": "python",
   "pygments_lexer": "ipython3",
   "version": "3.9.7"
  }
 },
 "nbformat": 4,
 "nbformat_minor": 5
}
