{
 "cells": [
  {
   "cell_type": "markdown",
   "id": "c1df45c2",
   "metadata": {},
   "source": [
    "# Lecture 1\n",
    "75 min: Lecture\n",
    "75 min: In-class exercise in breakout rooms\n",
    "you can turn it in by the end of the night\n",
    "\n",
    "Each module has a quiz + discussion\n",
    "We'll need a video of execution of my code\n",
    "\n",
    "ANLY 555 Project FAQ document is on Canvas--they are in order of when we would need them\n",
    "\n",
    "Class Project Deliverable #1 will be made available soon (even though it's not due until Module 2)\n",
    "\n",
    "We are going to make documentation for our code (Automatically using Doxygen!!)\n",
    "  - it will rip our comments and make really good documentation :)\n",
    "  - there will be a welcome announcement in each module\n",
    "\n"
   ]
  },
  {
   "cell_type": "markdown",
   "id": "1d095ade",
   "metadata": {},
   "source": [
    "Consider the following game show which has a host and a player. The player is presented with 3 doors each with a prize hidden behind it. The prizes consist of a new car, a donkey, and a chicken. (The player wants to win the new car.) The game starts when the player picks one of the three doors. The host, who knows whats behind each door, then opens one of the other doors to show that there is no car behind it. The host then asks if the player wants to (1) keep with their initial pick or (2) change their pick and select the other door. What should the player do??? Should the player keep their initial pick or switch?? Is there a statistical justification for either option? p To help answer this question, write a Python function that simulates this game n times. The function has two inputs:  n which is the number of trials to be simulated, and switchOrKeep a boolean which determines whether the player will keep or switch their picks for all trials. The output is the percentage of times the player wins the car.\n",
    "Hint: Organize your thoughts!! FIRST Write out the game using pseudocode/comments to help organize your thoughts, and confirm you understand the details of the game and the sequence of steps necessary to complete each trial. Then, as a last step, convert to actual python code and test. "
   ]
  },
  {
   "cell_type": "code",
   "execution_count": 13,
   "id": "13964c5c",
   "metadata": {},
   "outputs": [
    {
     "name": "stdout",
     "output_type": "stream",
     "text": [
      "Simulated probability of when player switches:  0.6623324664932987\n",
      "Simulated probability of when player stays:  0.3312662532506501\n"
     ]
    }
   ],
   "source": [
    "def prize_picker(n, switchOrKeep):\n",
    "    \n",
    "    doors = []\n",
    "    time = 0\n",
    "    wins = 0\n",
    "    host_door = 0\n",
    "    for item in range(1, n):\n",
    "        doors = [0,0,0]\n",
    "        time += 1\n",
    "        \n",
    "        # STEP 1: Randomly assign the items to doors\n",
    "        car = 3\n",
    "        doors[car - 1] = 1\n",
    "        \n",
    "        # [0,0,1]\n",
    "        \n",
    "        # STEP 2: Player picks a door\n",
    "        player_choice = random.randint(1, 3)\n",
    "        \n",
    "        # if they don't want to change, it will stay as 2\n",
    "        if switchOrKeep == True:\n",
    "            if player_choice == 3:\n",
    "                host_door = random.randint(1,2)\n",
    "                player_choice = 3 - host_door\n",
    "            elif player_choice == 1:\n",
    "                host_door = 2\n",
    "                player_choice = 3\n",
    "                wins += 1\n",
    "            elif player_choice == 2:\n",
    "                host_door = 1\n",
    "                player_choice = 3\n",
    "                wins += 1          \n",
    "                \n",
    "        else:\n",
    "            # they stay \n",
    "            if player_choice == 3:\n",
    "                wins += 1\n",
    "            else:\n",
    "                continue\n",
    "            \n",
    "\n",
    "    \n",
    "    percent_they_win_car = wins/time\n",
    "    return percent_they_win_car\n",
    "\n",
    "print('Simulated probability of when player switches: ', prize_picker(5000, True))\n",
    "print('Simulated probability of when player stays: ', prize_picker(5000, False))"
   ]
  },
  {
   "cell_type": "code",
   "execution_count": null,
   "id": "11ef9af7",
   "metadata": {},
   "outputs": [],
   "source": []
  }
 ],
 "metadata": {
  "kernelspec": {
   "display_name": "Python 3 (ipykernel)",
   "language": "python",
   "name": "python3"
  },
  "language_info": {
   "codemirror_mode": {
    "name": "ipython",
    "version": 3
   },
   "file_extension": ".py",
   "mimetype": "text/x-python",
   "name": "python",
   "nbconvert_exporter": "python",
   "pygments_lexer": "ipython3",
   "version": "3.9.7"
  }
 },
 "nbformat": 4,
 "nbformat_minor": 5
}
